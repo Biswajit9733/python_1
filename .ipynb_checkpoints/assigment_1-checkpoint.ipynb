{
 "cells": [
  {
   "cell_type": "code",
   "execution_count": 1,
   "id": "16c61a25-2607-46c9-9d2e-a8864471797d",
   "metadata": {},
   "outputs": [],
   "source": [
    "#Q1. Explain the key features of Python that make it a popular choice for programming\n",
    "\n",
    "#Python's syntax is clear and concise, making it easy to read and write.\n",
    "#Python comes with a vast standard library. This reduces the need for external libraries and accelerates development.\n",
    "#Python is cross-platform, meaning it runs on various operating systems like Windows, macOS, and Linux.\n",
    "#Python has a large and active community that contributes to its development, offers support.\n",
    "#Python can easily integrate with other languages and technologies. It supports integration with C, C++, and Java."
   ]
  },
  {
   "cell_type": "code",
   "execution_count": 2,
   "id": "a53616c8-a6ce-45ed-8ff8-70d04c8f7ce0",
   "metadata": {},
   "outputs": [
    {
     "name": "stdout",
     "output_type": "stream",
     "text": [
      "\n",
      "Here is a list of the Python keywords.  Enter any keyword to get more help.\n",
      "\n",
      "False               class               from                or\n",
      "None                continue            global              pass\n",
      "True                def                 if                  raise\n",
      "and                 del                 import              return\n",
      "as                  elif                in                  try\n",
      "assert              else                is                  while\n",
      "async               except              lambda              with\n",
      "await               finally             nonlocal            yield\n",
      "break               for                 not                 \n",
      "\n"
     ]
    }
   ],
   "source": [
    "#Q2. Describe the role of predefined keywords in Python and provide examples of how they are used in a program.\n",
    "\n",
    "#Predefined keywords in Python are reserved words that have a specific meaning and purpose in the language. \n",
    "#These keywords form the basic syntax of Python and cannot be used as identifiers (like variable names, function names, etc.).\n",
    "#These are the predefined keywords\n",
    "help(\"keywords\")"
   ]
  },
  {
   "cell_type": "code",
   "execution_count": 3,
   "id": "265a5fa2-196f-4301-9787-d76fb61035b4",
   "metadata": {},
   "outputs": [
    {
     "data": {
      "text/plain": [
       "1"
      ]
     },
     "execution_count": 3,
     "metadata": {},
     "output_type": "execute_result"
    }
   ],
   "source": [
    "#example of some of these are :...\n",
    "#logical operators\n",
    "#and\n",
    "#or\n",
    "True - False"
   ]
  },
  {
   "cell_type": "code",
   "execution_count": 4,
   "id": "a65bc193-1d50-4851-9071-fe109014ff70",
   "metadata": {},
   "outputs": [
    {
     "data": {
      "text/plain": [
       "1"
      ]
     },
     "execution_count": 4,
     "metadata": {},
     "output_type": "execute_result"
    }
   ],
   "source": [
    "True - False"
   ]
  },
  {
   "cell_type": "code",
   "execution_count": 5,
   "id": "45d6db85-8c8c-4653-9618-e5ed1065bc58",
   "metadata": {},
   "outputs": [
    {
     "data": {
      "text/plain": [
       "False"
      ]
     },
     "execution_count": 5,
     "metadata": {},
     "output_type": "execute_result"
    }
   ],
   "source": [
    "True and False"
   ]
  },
  {
   "cell_type": "code",
   "execution_count": 6,
   "id": "ec7eaa01-ae83-43bf-92f2-1ce389c0618d",
   "metadata": {},
   "outputs": [
    {
     "name": "stdout",
     "output_type": "stream",
     "text": [
      "I will not play cricket\n"
     ]
    }
   ],
   "source": [
    "# If else >> \n",
    "weather = \"rainy\"\n",
    "if (weather == \"rainy\"):\n",
    "    print(\"I will not play cricket\")\n",
    "else:\n",
    "    print(\"I will play cricket\")"
   ]
  },
  {
   "cell_type": "code",
   "execution_count": 7,
   "id": "3f3d0731-9f5a-4c02-94fc-f6e6aadd44a1",
   "metadata": {},
   "outputs": [
    {
     "name": "stdout",
     "output_type": "stream",
     "text": [
      "I will play cricket\n"
     ]
    }
   ],
   "source": [
    "weather = \"sunny\"\n",
    "if (weather == \"rainy\"):\n",
    "    print(\"I will not play cricket\")\n",
    "else:\n",
    "    print(\"I will play cricket\")"
   ]
  },
  {
   "cell_type": "code",
   "execution_count": 8,
   "id": "c9effaf9-99fe-408c-bb90-601207065980",
   "metadata": {},
   "outputs": [],
   "source": [
    "#Q3. Compare and contrast mutable and immutable objects in Python with examples.\n",
    "\n",
    "\n",
    "#Mutable Objects: Mutable objects are those whose state or contents can be modified after they are created. This means that you can change the value of the object without creating a new object.\n",
    "#Immutable Objects: Immutable objects, on the other hand, cannot be changed after they are created. Any operation that tries to modify an immutable object will instead create a new object with the modified value.\n",
    "# Example Mutable\n",
    "list_cont = [1, 2, 3, 4.3, 3+5j, True, \"Ram\"]"
   ]
  },
  {
   "cell_type": "code",
   "execution_count": 9,
   "id": "4ba335aa-88ad-4d23-baeb-44d49ea08577",
   "metadata": {},
   "outputs": [
    {
     "data": {
      "text/plain": [
       "[1, 2, 3, 4.3, (3+5j), True, 'Ram']"
      ]
     },
     "execution_count": 9,
     "metadata": {},
     "output_type": "execute_result"
    }
   ],
   "source": [
    "list_cont"
   ]
  },
  {
   "cell_type": "code",
   "execution_count": 10,
   "id": "b220a12a-c0ea-4956-a47e-be8cf308afef",
   "metadata": {},
   "outputs": [
    {
     "data": {
      "text/plain": [
       "(3+5j)"
      ]
     },
     "execution_count": 10,
     "metadata": {},
     "output_type": "execute_result"
    }
   ],
   "source": [
    "list_cont[4]"
   ]
  },
  {
   "cell_type": "code",
   "execution_count": 11,
   "id": "cc353bda-dd22-419d-8a03-48e878303864",
   "metadata": {},
   "outputs": [],
   "source": [
    "list_cont[1] = 100"
   ]
  },
  {
   "cell_type": "code",
   "execution_count": 12,
   "id": "904af12d-a126-406b-827f-5518cf01c22d",
   "metadata": {},
   "outputs": [
    {
     "data": {
      "text/plain": [
       "[1, 100, 3, 4.3, (3+5j), True, 'Ram']"
      ]
     },
     "execution_count": 12,
     "metadata": {},
     "output_type": "execute_result"
    }
   ],
   "source": [
    "list_cont"
   ]
  },
  {
   "cell_type": "code",
   "execution_count": 13,
   "id": "ea007aa2-75ba-414d-bb8c-9a36262efbf2",
   "metadata": {},
   "outputs": [
    {
     "name": "stdout",
     "output_type": "stream",
     "text": [
      "Hello world\n"
     ]
    }
   ],
   "source": [
    "# Example of Immutable\n",
    "print(\"Hello world\")"
   ]
  },
  {
   "cell_type": "code",
   "execution_count": 14,
   "id": "fbd4351b-3d8d-467e-b532-04d48421ce27",
   "metadata": {},
   "outputs": [
    {
     "data": {
      "text/plain": [
       "5"
      ]
     },
     "execution_count": 14,
     "metadata": {},
     "output_type": "execute_result"
    }
   ],
   "source": [
    "# Q4. Discuss the different types of operators in Python and provide examples of how they are used.\n",
    "##arithmatic operators\n",
    "a= 3\n",
    "b = 2\n",
    "a+b"
   ]
  },
  {
   "cell_type": "code",
   "execution_count": 15,
   "id": "4500f6a3-c2aa-44b7-81d5-a05a5809b4f9",
   "metadata": {},
   "outputs": [
    {
     "data": {
      "text/plain": [
       "1"
      ]
     },
     "execution_count": 15,
     "metadata": {},
     "output_type": "execute_result"
    }
   ],
   "source": [
    "#modulus operaters\n",
    "21 % 4"
   ]
  },
  {
   "cell_type": "code",
   "execution_count": 16,
   "id": "8c50a196-1369-4921-87bb-e7007a7ed779",
   "metadata": {},
   "outputs": [
    {
     "data": {
      "text/plain": [
       "True"
      ]
     },
     "execution_count": 16,
     "metadata": {},
     "output_type": "execute_result"
    }
   ],
   "source": [
    "# comparison operators >> compare two values >> return a bollean value\n",
    "2 ==2"
   ]
  },
  {
   "cell_type": "code",
   "execution_count": 17,
   "id": "712e7573-3ef4-4d59-9962-1efb6078605e",
   "metadata": {},
   "outputs": [
    {
     "data": {
      "text/plain": [
       "1"
      ]
     },
     "execution_count": 17,
     "metadata": {},
     "output_type": "execute_result"
    }
   ],
   "source": [
    "#logical operators\n",
    "#and\n",
    "#or\n",
    "True - False"
   ]
  },
  {
   "cell_type": "code",
   "execution_count": 18,
   "id": "5effe1f6-1647-4ec1-a89f-2b3ed24be616",
   "metadata": {},
   "outputs": [
    {
     "data": {
      "text/plain": [
       "False"
      ]
     },
     "execution_count": 18,
     "metadata": {},
     "output_type": "execute_result"
    }
   ],
   "source": [
    "#not operators\n",
    "not True"
   ]
  },
  {
   "cell_type": "code",
   "execution_count": 19,
   "id": "d718451e-9d50-433a-a01d-7095403515a4",
   "metadata": {},
   "outputs": [
    {
     "data": {
      "text/plain": [
       "10"
      ]
     },
     "execution_count": 19,
     "metadata": {},
     "output_type": "execute_result"
    }
   ],
   "source": [
    "#assigment operators\n",
    "a = 10\n",
    "a"
   ]
  },
  {
   "cell_type": "code",
   "execution_count": 20,
   "id": "ee87ab1a-8237-45cf-a120-b3c86072074a",
   "metadata": {},
   "outputs": [],
   "source": [
    "# membership operators\n",
    "a = \"Biswajit\""
   ]
  },
  {
   "cell_type": "code",
   "execution_count": 21,
   "id": "535b7622-dbf1-455e-bccb-e28e8c9292dc",
   "metadata": {},
   "outputs": [
    {
     "data": {
      "text/plain": [
       "True"
      ]
     },
     "execution_count": 21,
     "metadata": {},
     "output_type": "execute_result"
    }
   ],
   "source": [
    "\"B\" in a "
   ]
  },
  {
   "cell_type": "code",
   "execution_count": 22,
   "id": "e15244a6-694e-49c4-8c20-fb6679fc57ff",
   "metadata": {},
   "outputs": [],
   "source": [
    "#identity oprrators\n",
    "a = 2\n",
    "b = 3"
   ]
  },
  {
   "cell_type": "code",
   "execution_count": 23,
   "id": "9c95a976-1e3a-4d08-926e-2b28233ffd4a",
   "metadata": {},
   "outputs": [
    {
     "data": {
      "text/plain": [
       "False"
      ]
     },
     "execution_count": 23,
     "metadata": {},
     "output_type": "execute_result"
    }
   ],
   "source": [
    "a is b"
   ]
  },
  {
   "cell_type": "code",
   "execution_count": 24,
   "id": "fdbd719a-6277-48f3-b147-ac31f5203681",
   "metadata": {},
   "outputs": [
    {
     "data": {
      "text/plain": [
       "10"
      ]
     },
     "execution_count": 24,
     "metadata": {},
     "output_type": "execute_result"
    }
   ],
   "source": [
    "#bitwise operater \n",
    "10 & 10"
   ]
  },
  {
   "cell_type": "code",
   "execution_count": 25,
   "id": "0aa84f3c-856c-443f-8408-4ac765682b10",
   "metadata": {},
   "outputs": [
    {
     "data": {
      "text/plain": [
       "6"
      ]
     },
     "execution_count": 25,
     "metadata": {},
     "output_type": "execute_result"
    }
   ],
   "source": [
    "#bitwise xor operator>> ^\n",
    "5^3"
   ]
  },
  {
   "cell_type": "code",
   "execution_count": 26,
   "id": "0688bb9d-4cbf-4ee0-b24a-1fe7c6fdad11",
   "metadata": {},
   "outputs": [
    {
     "name": "stdout",
     "output_type": "stream",
     "text": [
      "8.5\n"
     ]
    }
   ],
   "source": [
    "#Q5. Explain the concept of type casting in Python with examples.\n",
    "\n",
    "#Type casting is known as type conversion, is the process of converting a variable from one data type to another in Python.\n",
    "#Types of Type Casting\n",
    "#Implicit Type Casting:\n",
    "x = 5    # integer\n",
    "y = 3.5  # float\n",
    "result = x + y\n",
    "print(result)"
   ]
  },
  {
   "cell_type": "code",
   "execution_count": 27,
   "id": "93e844b8-9747-4ef5-9724-e277bb3efd3b",
   "metadata": {},
   "outputs": [
    {
     "name": "stdout",
     "output_type": "stream",
     "text": [
      "<class 'float'>\n"
     ]
    }
   ],
   "source": [
    "print(type(result))"
   ]
  },
  {
   "cell_type": "code",
   "execution_count": 28,
   "id": "a597ddaf-56bb-47a0-95dd-6d0a48cc056a",
   "metadata": {},
   "outputs": [],
   "source": [
    "# Explicit Type Casting\n",
    "x = 10"
   ]
  },
  {
   "cell_type": "code",
   "execution_count": 29,
   "id": "02d86f85-e142-462b-89df-1cca623e1bdd",
   "metadata": {},
   "outputs": [
    {
     "data": {
      "text/plain": [
       "int"
      ]
     },
     "execution_count": 29,
     "metadata": {},
     "output_type": "execute_result"
    }
   ],
   "source": [
    "type(x)"
   ]
  },
  {
   "cell_type": "code",
   "execution_count": 30,
   "id": "0fb52d8f-3541-4400-bf88-492afb0a4ed4",
   "metadata": {},
   "outputs": [],
   "source": [
    "y = float(x)"
   ]
  },
  {
   "cell_type": "code",
   "execution_count": 31,
   "id": "cffe8be9-dcb1-4048-9174-fc7542b49796",
   "metadata": {},
   "outputs": [
    {
     "name": "stdout",
     "output_type": "stream",
     "text": [
      "10.0\n"
     ]
    }
   ],
   "source": [
    "print(y)"
   ]
  },
  {
   "cell_type": "code",
   "execution_count": 32,
   "id": "636645ee-866f-4f2a-b0ee-ec85d06870ab",
   "metadata": {},
   "outputs": [
    {
     "name": "stdout",
     "output_type": "stream",
     "text": [
      "<class 'float'>\n"
     ]
    }
   ],
   "source": [
    "print(type(y))"
   ]
  },
  {
   "cell_type": "code",
   "execution_count": 33,
   "id": "eb8d0ee7-b261-4cc7-a8c9-1661c880347e",
   "metadata": {},
   "outputs": [],
   "source": [
    "#Q6. How do conditional statements work in Python? Illustrate with examples.\n",
    "\n",
    "\n",
    "#Conditional statements in Python allow you to execute certain blocks of code based on whether a condition is true or false.\n",
    "#if\n",
    "#if else\n",
    "#if elif(elseif) else\n",
    "# nested if else"
   ]
  },
  {
   "cell_type": "code",
   "execution_count": 34,
   "id": "55c44cb2-f8e3-40d5-9380-81e0a52bc6c2",
   "metadata": {},
   "outputs": [],
   "source": [
    "#if statements\n",
    "#syntex\n",
    "# if condition true: then this vlock of code will be executed"
   ]
  },
  {
   "cell_type": "code",
   "execution_count": 35,
   "id": "ed19169f-df22-4dfe-8a9a-38255ad80cf1",
   "metadata": {},
   "outputs": [
    {
     "name": "stdout",
     "output_type": "stream",
     "text": [
      "The number is greater than 0.\n"
     ]
    }
   ],
   "source": [
    "a = 100\n",
    "if a > 0: # execute the block, if the condition is true \n",
    "    print(\"The number is greater than 0.\")"
   ]
  },
  {
   "cell_type": "code",
   "execution_count": 36,
   "id": "8e7b8900-3d8d-4289-909b-c85397364740",
   "metadata": {},
   "outputs": [
    {
     "name": "stdout",
     "output_type": "stream",
     "text": [
      "I will not play cricket\n"
     ]
    }
   ],
   "source": [
    "weather = \"rainy\"\n",
    "if weather == \"rainy\":\n",
    "    print(\"I will not play cricket\")"
   ]
  },
  {
   "cell_type": "code",
   "execution_count": 37,
   "id": "fd7233b1-a128-4ff2-9876-27ade9dd9c6b",
   "metadata": {},
   "outputs": [
    {
     "name": "stdout",
     "output_type": "stream",
     "text": [
      "I will not play cricket\n"
     ]
    }
   ],
   "source": [
    "# If else >> \n",
    "weather = \"rainy\"\n",
    "if (weather == \"rainy\"):\n",
    "    print(\"I will not play cricket\")\n",
    "else:\n",
    "    print(\"I will play cricket\")"
   ]
  },
  {
   "cell_type": "code",
   "execution_count": 38,
   "id": "5ecfb9d0-ee7b-40b3-bda9-f150a5d2e82a",
   "metadata": {},
   "outputs": [
    {
     "name": "stdout",
     "output_type": "stream",
     "text": [
      "I will play cricket\n"
     ]
    }
   ],
   "source": [
    "weather = \"sunny\"\n",
    "if (weather == \"rainy\"):\n",
    "    print(\"I will not play cricket\")\n",
    "else:\n",
    "    print(\"I will play cricket\")"
   ]
  },
  {
   "cell_type": "code",
   "execution_count": 39,
   "id": "1970d602-204d-4383-8d90-1b7173d87531",
   "metadata": {},
   "outputs": [],
   "source": [
    "# if else >> two condition\n",
    "# in real life we can have multiple condition\n",
    "#syntex\n",
    "# if some condition\n",
    "# elif some condition\n",
    "# else"
   ]
  },
  {
   "cell_type": "code",
   "execution_count": 40,
   "id": "7b6da3ce-9206-451b-9b67-200dceacda30",
   "metadata": {},
   "outputs": [
    {
     "name": "stdout",
     "output_type": "stream",
     "text": [
      "Sita\n"
     ]
    }
   ],
   "source": [
    "a = 100\n",
    "if a > 100:\n",
    "    print(\"Ram\")\n",
    "elif a < 100:\n",
    "    print (\"Lakshman\")\n",
    "else:\n",
    "    print(\"Sita\")"
   ]
  },
  {
   "cell_type": "code",
   "execution_count": 41,
   "id": "d7ca981f-d72c-4d0d-af36-5c6a433fc71b",
   "metadata": {},
   "outputs": [],
   "source": [
    "#Q7. Describe the different types of loops in Python and their use cases with examples.\n",
    "\n",
    "\n",
    "#In Python, loops are used to execute a block of code repeatedly as long as a specified condition is met. \n",
    "#loop statement >> it allows you to execute a block of code repeatedly\n",
    "#loops >> while loop and for loops"
   ]
  },
  {
   "cell_type": "code",
   "execution_count": 43,
   "id": "a55b8419-1cf8-4a08-92f8-eca7e7927c30",
   "metadata": {},
   "outputs": [],
   "source": [
    "# while >> repeatedly a block of code until a condition is met\n",
    "#syntax\n",
    "# while contidion: >> you define a while loop >> while is a key word for while loop\n",
    "# until the condition is true you will keep execution block of code\n",
    "# block of code"
   ]
  },
  {
   "cell_type": "code",
   "execution_count": 44,
   "id": "58a03419-7649-4951-bfa3-2a7de6b7b604",
   "metadata": {},
   "outputs": [
    {
     "name": "stdout",
     "output_type": "stream",
     "text": [
      "1\n",
      "2\n",
      "3\n",
      "4\n",
      "5\n",
      "6\n"
     ]
    }
   ],
   "source": [
    "n = 7\n",
    "i = 1\n",
    "while i < n:\n",
    "    print(i)\n",
    "    i = i+1"
   ]
  },
  {
   "cell_type": "code",
   "execution_count": 45,
   "id": "996bf11a-351b-47cc-99ee-8ba14b860de3",
   "metadata": {},
   "outputs": [
    {
     "name": "stdout",
     "output_type": "stream",
     "text": [
      "1\n",
      "2\n",
      "3\n",
      "4\n",
      "5\n",
      "6\n",
      "This will be executed when the while is run successfully without any break\n"
     ]
    }
   ],
   "source": [
    "n = 7\n",
    "i = 1\n",
    "while i < n:\n",
    "    print (i)\n",
    "    i = i +1\n",
    "else:\n",
    "    print(\"This will be executed when the while is run successfully without any break\")"
   ]
  },
  {
   "cell_type": "code",
   "execution_count": 46,
   "id": "d12e57f2-a0db-4b2a-89b3-72a4ddb00718",
   "metadata": {},
   "outputs": [
    {
     "name": "stdout",
     "output_type": "stream",
     "text": [
      "1\n",
      "2\n"
     ]
    }
   ],
   "source": [
    "# break terminates / exits the loop\n",
    "n = 7\n",
    "i = 1\n",
    "while i < n:\n",
    "    print (i)\n",
    "    i = i +1\n",
    "    if i == 3:\n",
    "        break \n",
    "else:\n",
    "    print(\"This will be executed when the while is run successfully without any break\")"
   ]
  },
  {
   "cell_type": "code",
   "execution_count": 47,
   "id": "72a022dc-f1fc-478d-ae30-f8210e7214c5",
   "metadata": {},
   "outputs": [
    {
     "name": "stdout",
     "output_type": "stream",
     "text": [
      "2\n",
      "4\n",
      "5\n",
      "6\n",
      "7\n",
      "This will be executed when the while is run successfully without any break\n"
     ]
    }
   ],
   "source": [
    "# continue >> skips the iteration\n",
    "n = 7\n",
    "i = 1\n",
    "while i < n:\n",
    "    i = i +1\n",
    "    if i == 3:\n",
    "        continue\n",
    "    print(i)\n",
    "else:\n",
    "    print(\"This will be executed when the while is run successfully without any break\")"
   ]
  },
  {
   "cell_type": "code",
   "execution_count": 48,
   "id": "83d905ea-ceb8-445f-8c17-afed3258efb4",
   "metadata": {},
   "outputs": [
    {
     "name": "stdout",
     "output_type": "stream",
     "text": [
      "p\n",
      "w\n",
      "s\n",
      "k\n",
      "i\n",
      "l\n",
      "l\n",
      "s\n"
     ]
    }
   ],
   "source": [
    "#for loops >> iterate over a sequence of >> strings, list\n",
    "for i in \"pwskills\":\n",
    "    print (i)"
   ]
  },
  {
   "cell_type": "code",
   "execution_count": null,
   "id": "09bfe056-88a2-4d11-9d39-452a2a8f7494",
   "metadata": {},
   "outputs": [],
   "source": []
  }
 ],
 "metadata": {
  "kernelspec": {
   "display_name": "Python 3 (ipykernel)",
   "language": "python",
   "name": "python3"
  },
  "language_info": {
   "codemirror_mode": {
    "name": "ipython",
    "version": 3
   },
   "file_extension": ".py",
   "mimetype": "text/x-python",
   "name": "python",
   "nbconvert_exporter": "python",
   "pygments_lexer": "ipython3",
   "version": "3.10.8"
  }
 },
 "nbformat": 4,
 "nbformat_minor": 5
}
